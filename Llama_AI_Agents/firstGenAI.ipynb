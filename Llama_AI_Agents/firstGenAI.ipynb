{
 "cells": [
  {
   "cell_type": "markdown",
   "metadata": {},
   "source": [
    "# AI book writer using llama"
   ]
  },
  {
   "cell_type": "code",
   "execution_count": 9,
   "metadata": {},
   "outputs": [
    {
     "name": "stdout",
     "output_type": "stream",
     "text": [
      "Hello, how are you? Hope you are doing good! \n",
      " I am your AI assistant and i can write a mini text book for you on whichever topic you want\n",
      " What is the topic of the book?\n",
      "ok i will write a book on variational quantum eigensolver\n"
     ]
    }
   ],
   "source": [
    "from ollama import chat\n",
    "from ollama import ChatResponse\n",
    "\n",
    "def write_to_file(filename, content):\n",
    "    \"\"\"\n",
    "    Write content to a file.\n",
    "\n",
    "    If the file does not exist, it will be created.\n",
    "    If the file already exists, its contents will be overwritten.\n",
    "    \"\"\"\n",
    "\n",
    "    try:\n",
    "        with open(filename, 'w') as file:\n",
    "            file.write(content)\n",
    "    except FileNotFoundError:\n",
    "        print(f\"File {filename} does not exist. Creating new file.\")\n",
    "    except Exception as e:\n",
    "        print(f\"An error occurred: {e}\")\n",
    "\n",
    "print(\"Hello, how are you? Hope you are doing good! \\n I am your AI assistant and i can write a mini text book for you on whichever topic you want\\n What is the topic of the book?\")\n",
    "s = str(input())\n",
    "print(\"ok i will write a book on \"+s)\n",
    "input_s = \"Write a 5 chapter book on \" + s + \" in latex format. Make it detail, technical, and also explain the complex terminology in simple words with examples. also point to some links for further reading. Have an introduction chapter, mathematical details chapter if there is lot of math involved, and have practical implementations chapter and provide code in that if it has coding implementation. also have a current state of the arts and limitations chapter\"\n",
    "response: ChatResponse = chat(model='llama3.2', messages=[\n",
    "  {\n",
    "    'role': 'user',\n",
    "    'content': input_s,\n",
    "  },\n",
    "])\n",
    "output_s = response['message']['content']\n",
    "#print(response['message']['content'])\n",
    "# or access fields directly from the response object\n",
    "#print(response.message.content)\n",
    "\n",
    "write_to_file('main.tex', output_s)"
   ]
  },
  {
   "cell_type": "code",
   "execution_count": 6,
   "metadata": {},
   "outputs": [],
   "source": [
    "def write_to_file(filename, content):\n",
    "    \"\"\"\n",
    "    Write content to a file.\n",
    "\n",
    "    If the file does not exist, it will be created.\n",
    "    If the file already exists, its contents will be overwritten.\n",
    "    \"\"\"\n",
    "\n",
    "    try:\n",
    "        with open(filename, 'w') as file:\n",
    "            file.write(content)\n",
    "    except FileNotFoundError:\n",
    "        print(f\"File {filename} does not exist. Creating new file.\")\n",
    "    except Exception as e:\n",
    "        print(f\"An error occurred: {e}\")\n",
    "\n",
    "# Example usage\n",
    "#write_to_file('book.txt', 'Hello, World!')"
   ]
  },
  {
   "cell_type": "markdown",
   "metadata": {},
   "source": [
    "# AI code generator"
   ]
  },
  {
   "cell_type": "code",
   "execution_count": 10,
   "metadata": {},
   "outputs": [
    {
     "name": "stdout",
     "output_type": "stream",
     "text": [
      "Hello, how are you? Hope you are doing good! \n",
      " I am your AI assistant and i can write any code in any programming or scripting language for you \n",
      " Please describe the code that you want me to write.\n",
      "Done, My Software developer hat is on, do not disturb me for some time...\n"
     ]
    }
   ],
   "source": [
    "from ollama import chat\n",
    "from ollama import ChatResponse\n",
    "\n",
    "def write_to_file(filename, content):\n",
    "    \"\"\"\n",
    "    Write content to a file.\n",
    "\n",
    "    If the file does not exist, it will be created.\n",
    "    If the file already exists, its contents will be overwritten.\n",
    "    \"\"\"\n",
    "\n",
    "    try:\n",
    "        with open(filename, 'w') as file:\n",
    "            file.write(content)\n",
    "    except FileNotFoundError:\n",
    "        print(f\"File {filename} does not exist. Creating new file.\")\n",
    "    except Exception as e:\n",
    "        print(f\"An error occurred: {e}\")\n",
    "\n",
    "print(\"Hello, how are you? Hope you are doing good! \\n I am your AI assistant and i can write any code in any programming or scripting language for you \\n Please describe the code that you want me to write.\")\n",
    "s = str(input())\n",
    "print(\"Done, My Software developer hat is on, do not disturb me for some time...\")\n",
    "input_s = s + \". write detailed code with comments explaining it.\"\n",
    "response: ChatResponse = chat(model='llama3.2', messages=[\n",
    "  {\n",
    "    'role': 'user',\n",
    "    'content': input_s,\n",
    "  },\n",
    "])\n",
    "output_s = response['message']['content']\n",
    "#print(response['message']['content'])\n",
    "# or access fields directly from the response object\n",
    "#print(response.message.content)\n",
    "\n",
    "write_to_file('test.py', output_s)"
   ]
  },
  {
   "cell_type": "code",
   "execution_count": null,
   "metadata": {},
   "outputs": [],
   "source": []
  }
 ],
 "metadata": {
  "kernelspec": {
   "display_name": ".venv",
   "language": "python",
   "name": "python3"
  },
  "language_info": {
   "codemirror_mode": {
    "name": "ipython",
    "version": 3
   },
   "file_extension": ".py",
   "mimetype": "text/x-python",
   "name": "python",
   "nbconvert_exporter": "python",
   "pygments_lexer": "ipython3",
   "version": "3.12.1"
  }
 },
 "nbformat": 4,
 "nbformat_minor": 2
}
